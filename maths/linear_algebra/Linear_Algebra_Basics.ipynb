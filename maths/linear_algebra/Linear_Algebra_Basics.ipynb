{
 "cells": [
  {
   "cell_type": "markdown",
   "metadata": {},
   "source": [
    "# Linear Algebra Basics\n",
    "\n",
    "Almost all of the machine learning and deep learning algorithms are implemented and conceptualized using Linear Algebra. To get in-depth understanding of the algorithms, it is important to understand the concepts of Linear Algebra. Understanding of these concepts give better intution about inner working of the algorithms, which helps Data Scientists and Machine Learning Engineers better decisions. In this notebook, we will explore basics of Linear Algebra. Future notebooks will cover more advanced topics. We will explore the concepts using code to get better intuition, instead of going too deep in theory. We will also take a small tour of the preliminary concepts required to understand Linear Algebra.\n",
    "\n",
    "Source: [Introduction to Linear Algebra for Applied Machine Learning with Python](https://pabloinsente.github.io/intro-linear-algebra)\n",
    "\n",
    "## Preliminary Concepts\n",
    "\n",
    "Just a small tour of some of the preliminary concepts before we dig deeper into Linear Algebra.\n",
    "\n",
    "### Sets\n",
    "\n",
    "Sets are one of the most fundamental concepts in Mathematics. Sets are **well-defined collection of objects**. The objects which make the set are called **elements** or **members** of the set. Your english class, a team of Cricket, or dance group could be called as Set, and the students in english class, the player in cricket or dancer in dance group are members or elements of these sets consecutively.\n",
    "\n",
    "In linear algebra terms, a *line* is a set of *points* and set of all lines is a set of sets. *Vectors* could be called as set of points and *Matrices* as set of vectors. Sets are usually represented a single upper case italic letter e.g. *A*.   \n",
    "\n",
    "### Belonging and Inclusion\n",
    "\n",
    "If a certain element *a* is part of set *A*, We denote that *a* belongs to (or in other words 'is an *element* or *member* of') *A* with greek letter epsilon as:\n",
    "\n",
    "$$a \\in \\textit{A}$$\n",
    "\n",
    "If all the members of set *B* are also members of set *A*, then we can say *B* is subset of *A* (usually the smaller is subset of bigger). In other words *A* includes *B*.\n",
    "\n",
    "$$\n",
    "\\textit{B} \\in \\textit{A}\n",
    "$$\n",
    "\n",
    "or\n",
    "\n",
    "$$\n",
    "\\textit{A} \\in \\textit{B}\n",
    "$$\n",
    "\n",
    "Belonging and inclusions are derieved from **Axiom of extension**: *Two sets are equal if and only if they have the same elements.* \n",
    "\n",
    "### Set Specification\n",
    "\n",
    "In general, anything we assert about the elements of the set results in *generation of a subset*. In other words, asserting things about the sets is a way to manufacture subsets. Take as an example of set of Books denoted as $\\textit{B}$. If I can assert \"$\\textit{b}$ is fiction\", such an assertion will likely be true for some of the elements of the set of all books $\\textit{B}$, and false for others. Hence, such a sentence is evaluated for all members of $\\textit{B}$ will generate a subset: *the set of all fiction books*. This is denoted as:\n",
    "\n",
    "$$\n",
    "\\textit{F} =\\{b \\subset \\textit{B} : \\text{b is fiction}\\}\n",
    "$$\n",
    "\n",
    "or\n",
    "\n",
    "$$\n",
    "\\textit{F} =\\{b \\subset \\textit{B} \\vert \\text{b is fiction}\\}\n",
    "$$\n",
    "\n",
    "The colon ($:$) or the vertical bar ($\\vert$) is read as \"such that\". There we can read above expression as: *all elements of $F$ in $\\textit{B}$ such that $b$ is fiction*. That is how we obtain a subset from another set.\n",
    "\n",
    "Set generation depends on the **axiom of specification**: *To every set $\\textit{A}$* and to every condition $\\textit{S}(x)$ there corresponds a set $\\textit{B}$ whose elements are exactly those elements $\\textit{a} \\in \\textit{A}$ for which $\\textit{S}(x)$ holds true.\n",
    "\n",
    "A condition $\\textit{S}(x)$ is any sentence or assertion about elements of $\\textit{A}$. Valid sentences are either of belonging or equality. When we combine belonging and equality assertions with logic operators (not, if, and or, etc), we can build any legal set.\n",
    "\n",
    "### Ordered and Unordered Sets\n",
    "\n",
    "Sets are usually used in two ways *Ordered* and *Unordered*. An *Ordered* set is where we care about the order in which elements are represented in the set. e.g. representation of a vertices:\n",
    "\n",
    "$$\n",
    "\\{x, y\\} \\neq \\{y, x\\}\n",
    "$$\n",
    "\n",
    "\n",
    "In case of an *Unordered* set, the order of the elements in set doesn't matter. e.g. a random list of names.\n",
    "\n",
    "### Relations\n",
    "\n",
    "There can be *relations* among the sets or between the elements of the sets."
   ]
  },
  {
   "cell_type": "markdown",
   "metadata": {},
   "source": [
    "To be continued.."
   ]
  },
  {
   "cell_type": "code",
   "execution_count": null,
   "metadata": {},
   "outputs": [],
   "source": []
  }
 ],
 "metadata": {
  "kernelspec": {
   "display_name": "Python 3",
   "language": "python",
   "name": "python3"
  },
  "language_info": {
   "codemirror_mode": {
    "name": "ipython",
    "version": 3
   },
   "file_extension": ".py",
   "mimetype": "text/x-python",
   "name": "python",
   "nbconvert_exporter": "python",
   "pygments_lexer": "ipython3",
   "version": "3.8.2"
  }
 },
 "nbformat": 4,
 "nbformat_minor": 4
}
