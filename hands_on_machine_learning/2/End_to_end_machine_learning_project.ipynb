{
  "nbformat": 4,
  "nbformat_minor": 0,
  "metadata": {
    "colab": {
      "name": "End_to_end_machine_learning_project.ipynb",
      "provenance": [],
      "authorship_tag": "ABX9TyNOta28wW0UpL7RZGMpmLdi",
      "include_colab_link": true
    },
    "kernelspec": {
      "name": "python3",
      "display_name": "Python 3"
    }
  },
  "cells": [
    {
      "cell_type": "markdown",
      "metadata": {
        "id": "_4HRjW_jDQlX",
        "colab_type": "text"
      },
      "source": [
        "# End to End Machine Learning Project\n",
        "\n",
        "In this project we will go through an example project end to end, pretending to be a recently hired data scientist in a real estate company.Here are the main steps you will go through:\n",
        "<ul>\n",
        "<li>Look at the big picture.</li>\n",
        "<li>Get the data.</li>\n",
        "<li>Discover and visualize the data to gain insights.</li>\n",
        "<li>Prepare the data for Machine Learning algorithms.</li>\n",
        "<li>Select a model and train it.</li>\n",
        "<li>Fine-tune your model.</li>\n",
        "<li>Present your solution.</li>\n",
        "<li>Launch, monitor, and maintain your system.</li>\n",
        "</ul>"
      ]
    },
    {
      "cell_type": "code",
      "metadata": {
        "id": "TVJY-U2NDw6o",
        "colab_type": "code",
        "colab": {}
      },
      "source": [
        ""
      ],
      "execution_count": 0,
      "outputs": []
    }
  ]
}
