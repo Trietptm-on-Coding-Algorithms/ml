{
 "cells": [
  {
   "cell_type": "markdown",
   "metadata": {},
   "source": [
    "# Pandas Hands on"
   ]
  },
  {
   "cell_type": "markdown",
   "metadata": {},
   "source": [
    "Inspired by [talumbau/strata_data](https://github.com/talumbau/strata_data) \n",
    "In this notebook we are going to learn the following:\n",
    "- Pandas Data Structures: How We Work With Data\n",
    "- Pandas I/O: How We Get Our Data into Pandas\n",
    "- Slicing/Dicing/Mixing/Matching\n",
    "\n",
    "Basically, this notebook is for practicing Pandas, the universal practical data analysis. It is called\n",
    "**swiss knife** tool of data analysis.\n"
   ]
  },
  {
   "cell_type": "markdown",
   "metadata": {},
   "source": [
    "### Why is Pandas fast?\n",
    "- If you are familiar with *Numpy*, `Series` and `DataFrames` are built upon `numpy.ndarray`.\n",
    "- pandas supports the same `ufunc` operations as in *Numpy*, and the same fast vectorized computations.\n"
   ]
  },
  {
   "cell_type": "markdown",
   "metadata": {},
   "source": [
    "### Pandas Data Structures"
   ]
  },
  {
   "cell_type": "markdown",
   "metadata": {},
   "source": [
    "#### Series"
   ]
  },
  {
   "cell_type": "markdown",
   "metadata": {},
   "source": [
    "- One dimensional serial data\n",
    "- It is basically a one dimensional array of **homogeneous** data.\n",
    "- Series objects also include a second array called **Index**. It can contain homogeneous values of any type like integers, strings or datetime objects."
   ]
  },
  {
   "cell_type": "markdown",
   "metadata": {},
   "source": [
    "#### DataFrame"
   ]
  },
  {
   "cell_type": "markdown",
   "metadata": {},
   "source": [
    "- Two dimensional collection of tabular data\n",
    "- It is basically a two-dimensional table of **heterogeneous** data, composed of multiple **Series**.\n",
    "- Like Series, DataFrame objects include a column index. The index objects permits for very sophisticated selection operations using square brackets ([]) along with some specialized selection functions."
   ]
  },
  {
   "cell_type": "markdown",
   "metadata": {},
   "source": [
    "#### Installation and Nitty-Gritty details\n",
    "- If you are in conda environment you can use:\n",
    "\n",
    "    `conda install pandas`\n",
    "- If you are using pip\n",
    "\n",
    "    `pip install pandas`\n",
    "- For more details about installtion and documentation visit [https://pandas.pydata.org/](https://pandas.pydata.org/)\n"
   ]
  },
  {
   "cell_type": "markdown",
   "metadata": {},
   "source": [
    "Lets get our hands dirty"
   ]
  },
  {
   "cell_type": "code",
   "execution_count": 2,
   "metadata": {},
   "outputs": [
    {
     "data": {
      "text/plain": [
       "'0.24.2'"
      ]
     },
     "execution_count": 2,
     "metadata": {},
     "output_type": "execute_result"
    }
   ],
   "source": [
    "import pandas as pd\n",
    "pd.__version__"
   ]
  },
  {
   "cell_type": "code",
   "execution_count": 26,
   "metadata": {},
   "outputs": [],
   "source": [
    "# Set Jupyter notebook display options\n",
    "pd.options.display.max_rows = 8\n",
    "pd.options.display.max_columns = 8"
   ]
  },
  {
   "cell_type": "markdown",
   "metadata": {},
   "source": [
    "Sidenote: Explore more `pd.options` for more pandas configuration options"
   ]
  },
  {
   "cell_type": "code",
   "execution_count": 3,
   "metadata": {},
   "outputs": [],
   "source": [
    "# to embed plots in the notebook\n",
    "%matplotlib inline"
   ]
  },
  {
   "cell_type": "markdown",
   "metadata": {},
   "source": [
    "#### Reading Data\n",
    "Pandas has a very simple interface to read data from files or from websites. Let's read a data file which has details of google's stock from 2010 to 2014. Asn  this is a tabular data, we are reading this in Panda's dataframe. `head` just gives you first 5 rows of data frame, usually used for not inspecting if data has been loaded successfully."
   ]
  },
  {
   "cell_type": "code",
   "execution_count": 4,
   "metadata": {},
   "outputs": [
    {
     "data": {
      "text/html": [
       "<div>\n",
       "<style scoped>\n",
       "    .dataframe tbody tr th:only-of-type {\n",
       "        vertical-align: middle;\n",
       "    }\n",
       "\n",
       "    .dataframe tbody tr th {\n",
       "        vertical-align: top;\n",
       "    }\n",
       "\n",
       "    .dataframe thead th {\n",
       "        text-align: right;\n",
       "    }\n",
       "</style>\n",
       "<table border=\"1\" class=\"dataframe\">\n",
       "  <thead>\n",
       "    <tr style=\"text-align: right;\">\n",
       "      <th></th>\n",
       "      <th>Open</th>\n",
       "      <th>High</th>\n",
       "      <th>Low</th>\n",
       "      <th>Close</th>\n",
       "      <th>Volume</th>\n",
       "    </tr>\n",
       "    <tr>\n",
       "      <th>Date</th>\n",
       "      <th></th>\n",
       "      <th></th>\n",
       "      <th></th>\n",
       "      <th></th>\n",
       "      <th></th>\n",
       "    </tr>\n",
       "  </thead>\n",
       "  <tbody>\n",
       "    <tr>\n",
       "      <th>2010-01-04</th>\n",
       "      <td>313.16</td>\n",
       "      <td>314.44</td>\n",
       "      <td>311.81</td>\n",
       "      <td>313.06</td>\n",
       "      <td>NaN</td>\n",
       "    </tr>\n",
       "    <tr>\n",
       "      <th>2010-01-05</th>\n",
       "      <td>313.28</td>\n",
       "      <td>313.61</td>\n",
       "      <td>310.46</td>\n",
       "      <td>311.68</td>\n",
       "      <td>NaN</td>\n",
       "    </tr>\n",
       "    <tr>\n",
       "      <th>2010-01-06</th>\n",
       "      <td>312.62</td>\n",
       "      <td>312.62</td>\n",
       "      <td>302.88</td>\n",
       "      <td>303.83</td>\n",
       "      <td>NaN</td>\n",
       "    </tr>\n",
       "    <tr>\n",
       "      <th>2010-01-07</th>\n",
       "      <td>304.40</td>\n",
       "      <td>304.70</td>\n",
       "      <td>296.03</td>\n",
       "      <td>296.75</td>\n",
       "      <td>NaN</td>\n",
       "    </tr>\n",
       "    <tr>\n",
       "      <th>2010-01-08</th>\n",
       "      <td>295.70</td>\n",
       "      <td>301.32</td>\n",
       "      <td>294.26</td>\n",
       "      <td>300.71</td>\n",
       "      <td>NaN</td>\n",
       "    </tr>\n",
       "  </tbody>\n",
       "</table>\n",
       "</div>"
      ],
      "text/plain": [
       "              Open    High     Low   Close  Volume\n",
       "Date                                              \n",
       "2010-01-04  313.16  314.44  311.81  313.06     NaN\n",
       "2010-01-05  313.28  313.61  310.46  311.68     NaN\n",
       "2010-01-06  312.62  312.62  302.88  303.83     NaN\n",
       "2010-01-07  304.40  304.70  296.03  296.75     NaN\n",
       "2010-01-08  295.70  301.32  294.26  300.71     NaN"
      ]
     },
     "execution_count": 4,
     "metadata": {},
     "output_type": "execute_result"
    }
   ],
   "source": [
    "goog = pd.read_csv('data/goog.csv', index_col='Date', parse_dates=True)\n",
    "goog.head()"
   ]
  },
  {
   "cell_type": "markdown",
   "metadata": {},
   "source": [
    "#### Reading data from web"
   ]
  },
  {
   "cell_type": "markdown",
   "metadata": {},
   "source": [
    "For reading data from web we are going to use an auxillary module called `pandas-datareader`. You can install this as \n",
    "\n",
    "`conda install pandas-datareader`"
   ]
  },
  {
   "cell_type": "code",
   "execution_count": 5,
   "metadata": {},
   "outputs": [
    {
     "name": "stdout",
     "output_type": "stream",
     "text": [
      "Collecting package metadata: ...working... done\n",
      "Solving environment: ...working... done\n",
      "\n",
      "# All requested packages already installed.\n",
      "\n"
     ]
    }
   ],
   "source": [
    "!conda install -y pandas-datareader"
   ]
  },
  {
   "cell_type": "markdown",
   "metadata": {},
   "source": [
    "Our google data is old, lets read new data from *IEX* using `pandas-datareader`. Refer to [documentation](https://pandas-datareader.readthedocs.io) of pandas-datareader for more details. "
   ]
  },
  {
   "cell_type": "code",
   "execution_count": 6,
   "metadata": {},
   "outputs": [],
   "source": [
    "import pandas_datareader.data as web\n",
    "import datetime\n",
    "\n",
    "start = datetime.datetime(2014, 1, 1)\n",
    "end = datetime.datetime(2019, 5, 19)\n",
    "df_goog = web.DataReader('GOOGL', 'iex', start, end)\n",
    "\n"
   ]
  },
  {
   "cell_type": "code",
   "execution_count": 7,
   "metadata": {},
   "outputs": [
    {
     "data": {
      "text/html": [
       "<div>\n",
       "<style scoped>\n",
       "    .dataframe tbody tr th:only-of-type {\n",
       "        vertical-align: middle;\n",
       "    }\n",
       "\n",
       "    .dataframe tbody tr th {\n",
       "        vertical-align: top;\n",
       "    }\n",
       "\n",
       "    .dataframe thead th {\n",
       "        text-align: right;\n",
       "    }\n",
       "</style>\n",
       "<table border=\"1\" class=\"dataframe\">\n",
       "  <thead>\n",
       "    <tr style=\"text-align: right;\">\n",
       "      <th></th>\n",
       "      <th>open</th>\n",
       "      <th>high</th>\n",
       "      <th>low</th>\n",
       "      <th>close</th>\n",
       "      <th>volume</th>\n",
       "    </tr>\n",
       "    <tr>\n",
       "      <th>date</th>\n",
       "      <th></th>\n",
       "      <th></th>\n",
       "      <th></th>\n",
       "      <th></th>\n",
       "      <th></th>\n",
       "    </tr>\n",
       "  </thead>\n",
       "  <tbody>\n",
       "    <tr>\n",
       "      <th>2014-05-21</th>\n",
       "      <td>542.90</td>\n",
       "      <td>549.75</td>\n",
       "      <td>542.110</td>\n",
       "      <td>549.70</td>\n",
       "      <td>1564854</td>\n",
       "    </tr>\n",
       "    <tr>\n",
       "      <th>2014-05-22</th>\n",
       "      <td>552.20</td>\n",
       "      <td>557.96</td>\n",
       "      <td>551.000</td>\n",
       "      <td>555.45</td>\n",
       "      <td>2149757</td>\n",
       "    </tr>\n",
       "    <tr>\n",
       "      <th>2014-05-23</th>\n",
       "      <td>558.13</td>\n",
       "      <td>565.00</td>\n",
       "      <td>554.170</td>\n",
       "      <td>563.80</td>\n",
       "      <td>2672674</td>\n",
       "    </tr>\n",
       "    <tr>\n",
       "      <th>2014-05-27</th>\n",
       "      <td>567.78</td>\n",
       "      <td>574.87</td>\n",
       "      <td>564.150</td>\n",
       "      <td>574.87</td>\n",
       "      <td>2191828</td>\n",
       "    </tr>\n",
       "    <tr>\n",
       "      <th>2014-05-28</th>\n",
       "      <td>574.57</td>\n",
       "      <td>577.66</td>\n",
       "      <td>569.952</td>\n",
       "      <td>570.45</td>\n",
       "      <td>1581576</td>\n",
       "    </tr>\n",
       "  </tbody>\n",
       "</table>\n",
       "</div>"
      ],
      "text/plain": [
       "              open    high      low   close   volume\n",
       "date                                                \n",
       "2014-05-21  542.90  549.75  542.110  549.70  1564854\n",
       "2014-05-22  552.20  557.96  551.000  555.45  2149757\n",
       "2014-05-23  558.13  565.00  554.170  563.80  2672674\n",
       "2014-05-27  567.78  574.87  564.150  574.87  2191828\n",
       "2014-05-28  574.57  577.66  569.952  570.45  1581576"
      ]
     },
     "execution_count": 7,
     "metadata": {},
     "output_type": "execute_result"
    }
   ],
   "source": [
    "df_goog.head()"
   ]
  },
  {
   "cell_type": "markdown",
   "metadata": {},
   "source": [
    "Let's save this data to CSV."
   ]
  },
  {
   "cell_type": "code",
   "execution_count": 8,
   "metadata": {},
   "outputs": [],
   "source": [
    " df_goog.to_csv('data/goog_new.csv', index=True, encoding='utf-8')"
   ]
  },
  {
   "cell_type": "markdown",
   "metadata": {},
   "source": [
    "#### Creating a Series"
   ]
  },
  {
   "cell_type": "code",
   "execution_count": 27,
   "metadata": {},
   "outputs": [
    {
     "data": {
      "text/plain": [
       "pandas.core.series.Series"
      ]
     },
     "execution_count": 27,
     "metadata": {},
     "output_type": "execute_result"
    }
   ],
   "source": [
    "series = df_goog['open']\n",
    "type(series)"
   ]
  },
  {
   "cell_type": "markdown",
   "metadata": {},
   "source": [
    "##### Creating a series from python list."
   ]
  },
  {
   "cell_type": "code",
   "execution_count": 29,
   "metadata": {},
   "outputs": [
    {
     "name": "stdout",
     "output_type": "stream",
     "text": [
      "0    1\n",
      "1    3\n",
      "2    5\n",
      "3    7\n",
      "dtype: int64\n",
      "<class 'pandas.core.series.Series'>\n"
     ]
    }
   ],
   "source": [
    "lst = [1, 3, 5, 7]\n",
    "lst_series = pd.Series(lst)\n",
    "print(lst_series)\n",
    "print(type(lst_series))"
   ]
  },
  {
   "cell_type": "markdown",
   "metadata": {},
   "source": [
    "#### Creating a series from a python dict"
   ]
  },
  {
   "cell_type": "code",
   "execution_count": 30,
   "metadata": {},
   "outputs": [
    {
     "name": "stdout",
     "output_type": "stream",
     "text": [
      "Orange    Fruit\n",
      "Apple     Phone\n",
      "dtype: object\n",
      "<class 'pandas.core.series.Series'>\n"
     ]
    }
   ],
   "source": [
    "dictionary = {'Orange' : 'Fruit', 'Apple' : 'Phone'}\n",
    "dict_series = pd.Series(dictionary)\n",
    "print(dict_series)\n",
    "print(type(dict_series))"
   ]
  },
  {
   "cell_type": "markdown",
   "metadata": {},
   "source": [
    "##### Creating a series from a ordered dict"
   ]
  },
  {
   "cell_type": "code",
   "execution_count": 32,
   "metadata": {},
   "outputs": [
    {
     "name": "stdout",
     "output_type": "stream",
     "text": [
      "c    300\n",
      "a    100\n",
      "d    400\n",
      "b    200\n",
      "dtype: int64\n",
      "<class 'pandas.core.series.Series'>\n"
     ]
    }
   ],
   "source": [
    "\n",
    "from collections import OrderedDict\n",
    "od = OrderedDict([('c', 300), ('a', 100 ), ('d', 400), ('b', 200)])\n",
    "ordered_dict_series = pd.Series(od)\n",
    "print(ordered_dict_series)\n",
    "print(type(ordered_dict_series))"
   ]
  },
  {
   "cell_type": "markdown",
   "metadata": {},
   "source": [
    "##### Creating a series from a NumPy array"
   ]
  },
  {
   "cell_type": "code",
   "execution_count": 34,
   "metadata": {},
   "outputs": [
    {
     "name": "stdout",
     "output_type": "stream",
     "text": [
      "[10. 20. 30. 40. 50.] <class 'numpy.ndarray'>\n",
      "0    10.0\n",
      "1    20.0\n",
      "2    30.0\n",
      "3    40.0\n",
      "4    50.0\n",
      "dtype: float64 <class 'pandas.core.series.Series'>\n"
     ]
    }
   ],
   "source": [
    "num_arr = np.arange(1, 6) * 10.0\n",
    "num_arr_series = pd.Series(num_arr)\n",
    "print(num_arr, type(num_arr))\n",
    "print(num_arr_series, type(num_arr_series))"
   ]
  },
  {
   "cell_type": "markdown",
   "metadata": {},
   "source": [
    "#### Series's index\n",
    "pandas series object always has an index. The default index is just a sequence of integers"
   ]
  },
  {
   "cell_type": "code",
   "execution_count": 35,
   "metadata": {},
   "outputs": [
    {
     "data": {
      "text/plain": [
       "RangeIndex(start=0, stop=5, step=1)"
      ]
     },
     "execution_count": 35,
     "metadata": {},
     "output_type": "execute_result"
    }
   ],
   "source": [
    "num_arr_series.index"
   ]
  },
  {
   "cell_type": "markdown",
   "metadata": {},
   "source": [
    "It is used for 0 based indexing"
   ]
  },
  {
   "cell_type": "code",
   "execution_count": 36,
   "metadata": {},
   "outputs": [
    {
     "data": {
      "text/plain": [
       "10.0"
      ]
     },
     "execution_count": 36,
     "metadata": {},
     "output_type": "execute_result"
    }
   ],
   "source": [
    "num_arr_series.iloc[0]"
   ]
  },
  {
   "cell_type": "markdown",
   "metadata": {},
   "source": [
    "The index can be set to a sequence of labels.\n"
   ]
  },
  {
   "cell_type": "code",
   "execution_count": 40,
   "metadata": {},
   "outputs": [
    {
     "data": {
      "text/plain": [
       "Index(['a', 'b', 'c', 'd', 'a'], dtype='object')"
      ]
     },
     "execution_count": 40,
     "metadata": {},
     "output_type": "execute_result"
    }
   ],
   "source": [
    "index = ['a', 'b', 'c', 'd', 'a']\n",
    "num_arr_series2 = pd.Series(np.arange(1, 6) * 10.0, index=index)\n",
    "num_arr_series2.index"
   ]
  },
  {
   "cell_type": "code",
   "execution_count": 42,
   "metadata": {},
   "outputs": [
    {
     "data": {
      "text/plain": [
       "20.0"
      ]
     },
     "execution_count": 42,
     "metadata": {},
     "output_type": "execute_result"
    }
   ],
   "source": [
    "num_arr_series2.loc['b']"
   ]
  },
  {
   "cell_type": "code",
   "execution_count": 43,
   "metadata": {},
   "outputs": [
    {
     "data": {
      "text/plain": [
       "a    10.0\n",
       "a    50.0\n",
       "dtype: float64"
      ]
     },
     "execution_count": 43,
     "metadata": {},
     "output_type": "execute_result"
    }
   ],
   "source": [
    "num_arr_series2.loc['a']"
   ]
  },
  {
   "cell_type": "markdown",
   "metadata": {},
   "source": [
    "#### Iterate over a panda series"
   ]
  },
  {
   "cell_type": "code",
   "execution_count": 45,
   "metadata": {},
   "outputs": [
    {
     "name": "stdout",
     "output_type": "stream",
     "text": [
      "0 10.0\n",
      "1 20.0\n",
      "2 30.0\n",
      "3 40.0\n",
      "4 50.0\n"
     ]
    }
   ],
   "source": [
    "for key, value in num_arr_series.iteritems():\n",
    "    print(key, value)"
   ]
  },
  {
   "cell_type": "code",
   "execution_count": 46,
   "metadata": {},
   "outputs": [
    {
     "name": "stdout",
     "output_type": "stream",
     "text": [
      "a 10.0\n",
      "b 20.0\n",
      "c 30.0\n",
      "d 40.0\n",
      "a 50.0\n"
     ]
    }
   ],
   "source": [
    "for key, value in num_arr_series2.iteritems():\n",
    "    print(key, value)"
   ]
  },
  {
   "cell_type": "markdown",
   "metadata": {},
   "source": [
    "#### Pandas slicing\n",
    "`series_object.iloc[start_index : end_index]` Start index is inclusive, end index is exclusive."
   ]
  },
  {
   "cell_type": "code",
   "execution_count": 48,
   "metadata": {},
   "outputs": [
    {
     "data": {
      "text/plain": [
       "1    20.0\n",
       "2    30.0\n",
       "3    40.0\n",
       "dtype: float64"
      ]
     },
     "execution_count": 48,
     "metadata": {},
     "output_type": "execute_result"
    }
   ],
   "source": [
    "num_arr_series.iloc[1:4]"
   ]
  },
  {
   "cell_type": "markdown",
   "metadata": {},
   "source": [
    "However, when it comes to slicing with labels, end index is also inclusive."
   ]
  },
  {
   "cell_type": "code",
   "execution_count": 50,
   "metadata": {},
   "outputs": [
    {
     "data": {
      "text/plain": [
       "b    20.0\n",
       "c    30.0\n",
       "dtype: float64"
      ]
     },
     "execution_count": 50,
     "metadata": {},
     "output_type": "execute_result"
    }
   ],
   "source": [
    "num_arr_series2.loc['b' : 'c']"
   ]
  },
  {
   "cell_type": "markdown",
   "metadata": {},
   "source": [
    "Slicing from the end"
   ]
  },
  {
   "cell_type": "code",
   "execution_count": 52,
   "metadata": {},
   "outputs": [
    {
     "data": {
      "text/plain": [
       "4    50.0\n",
       "dtype: float64"
      ]
     },
     "execution_count": 52,
     "metadata": {},
     "output_type": "execute_result"
    }
   ],
   "source": [
    "num_arr_series.iloc[-1:]"
   ]
  },
  {
   "cell_type": "markdown",
   "metadata": {},
   "source": [
    "Slicing from the beginning"
   ]
  },
  {
   "cell_type": "code",
   "execution_count": 53,
   "metadata": {},
   "outputs": [
    {
     "data": {
      "text/plain": [
       "0    10.0\n",
       "1    20.0\n",
       "dtype: float64"
      ]
     },
     "execution_count": 53,
     "metadata": {},
     "output_type": "execute_result"
    }
   ],
   "source": [
    "num_arr_series.iloc[:-3]"
   ]
  },
  {
   "cell_type": "markdown",
   "metadata": {},
   "source": [
    "Slice with labels with integer step size"
   ]
  },
  {
   "cell_type": "code",
   "execution_count": 56,
   "metadata": {},
   "outputs": [
    {
     "data": {
      "text/plain": [
       "d    40.0\n",
       "b    20.0\n",
       "dtype: float64"
      ]
     },
     "execution_count": 56,
     "metadata": {},
     "output_type": "execute_result"
    }
   ],
   "source": [
    "num_arr_series2.loc['d' : 'b' : -2]"
   ]
  },
  {
   "cell_type": "markdown",
   "metadata": {},
   "source": [
    "#### Data investigation"
   ]
  },
  {
   "cell_type": "markdown",
   "metadata": {},
   "source": [
    "Let's investigate the data of google stock we obtained from weband stored in pandas"
   ]
  },
  {
   "cell_type": "code",
   "execution_count": 9,
   "metadata": {},
   "outputs": [
    {
     "data": {
      "text/plain": [
       "pandas.core.frame.DataFrame"
      ]
     },
     "execution_count": 9,
     "metadata": {},
     "output_type": "execute_result"
    }
   ],
   "source": [
    "type(df_goog)"
   ]
  },
  {
   "cell_type": "markdown",
   "metadata": {},
   "source": [
    "As used before, head is used to inspect the first few lines of the dataset. By default it is 5 rows, however you can give an argument to get more rows. Let's get first 10 rows."
   ]
  },
  {
   "cell_type": "code",
   "execution_count": 10,
   "metadata": {},
   "outputs": [
    {
     "data": {
      "text/html": [
       "<div>\n",
       "<style scoped>\n",
       "    .dataframe tbody tr th:only-of-type {\n",
       "        vertical-align: middle;\n",
       "    }\n",
       "\n",
       "    .dataframe tbody tr th {\n",
       "        vertical-align: top;\n",
       "    }\n",
       "\n",
       "    .dataframe thead th {\n",
       "        text-align: right;\n",
       "    }\n",
       "</style>\n",
       "<table border=\"1\" class=\"dataframe\">\n",
       "  <thead>\n",
       "    <tr style=\"text-align: right;\">\n",
       "      <th></th>\n",
       "      <th>open</th>\n",
       "      <th>high</th>\n",
       "      <th>low</th>\n",
       "      <th>close</th>\n",
       "      <th>volume</th>\n",
       "    </tr>\n",
       "    <tr>\n",
       "      <th>date</th>\n",
       "      <th></th>\n",
       "      <th></th>\n",
       "      <th></th>\n",
       "      <th></th>\n",
       "      <th></th>\n",
       "    </tr>\n",
       "  </thead>\n",
       "  <tbody>\n",
       "    <tr>\n",
       "      <th>2014-05-21</th>\n",
       "      <td>542.90</td>\n",
       "      <td>549.75</td>\n",
       "      <td>542.1100</td>\n",
       "      <td>549.70</td>\n",
       "      <td>1564854</td>\n",
       "    </tr>\n",
       "    <tr>\n",
       "      <th>2014-05-22</th>\n",
       "      <td>552.20</td>\n",
       "      <td>557.96</td>\n",
       "      <td>551.0000</td>\n",
       "      <td>555.45</td>\n",
       "      <td>2149757</td>\n",
       "    </tr>\n",
       "    <tr>\n",
       "      <th>2014-05-23</th>\n",
       "      <td>558.13</td>\n",
       "      <td>565.00</td>\n",
       "      <td>554.1700</td>\n",
       "      <td>563.80</td>\n",
       "      <td>2672674</td>\n",
       "    </tr>\n",
       "    <tr>\n",
       "      <th>2014-05-27</th>\n",
       "      <td>567.78</td>\n",
       "      <td>574.87</td>\n",
       "      <td>564.1500</td>\n",
       "      <td>574.87</td>\n",
       "      <td>2191828</td>\n",
       "    </tr>\n",
       "    <tr>\n",
       "      <th>2014-05-28</th>\n",
       "      <td>574.57</td>\n",
       "      <td>577.66</td>\n",
       "      <td>569.9520</td>\n",
       "      <td>570.45</td>\n",
       "      <td>1581576</td>\n",
       "    </tr>\n",
       "    <tr>\n",
       "      <th>2014-05-29</th>\n",
       "      <td>573.39</td>\n",
       "      <td>573.48</td>\n",
       "      <td>568.4525</td>\n",
       "      <td>570.56</td>\n",
       "      <td>1411296</td>\n",
       "    </tr>\n",
       "    <tr>\n",
       "      <th>2014-05-30</th>\n",
       "      <td>571.64</td>\n",
       "      <td>572.58</td>\n",
       "      <td>565.7900</td>\n",
       "      <td>571.65</td>\n",
       "      <td>1871737</td>\n",
       "    </tr>\n",
       "    <tr>\n",
       "      <th>2014-06-02</th>\n",
       "      <td>569.75</td>\n",
       "      <td>570.41</td>\n",
       "      <td>556.7000</td>\n",
       "      <td>564.34</td>\n",
       "      <td>1663640</td>\n",
       "    </tr>\n",
       "    <tr>\n",
       "      <th>2014-06-03</th>\n",
       "      <td>560.90</td>\n",
       "      <td>562.40</td>\n",
       "      <td>552.5275</td>\n",
       "      <td>554.51</td>\n",
       "      <td>2031647</td>\n",
       "    </tr>\n",
       "    <tr>\n",
       "      <th>2014-06-04</th>\n",
       "      <td>551.52</td>\n",
       "      <td>558.58</td>\n",
       "      <td>548.5600</td>\n",
       "      <td>553.76</td>\n",
       "      <td>1729192</td>\n",
       "    </tr>\n",
       "  </tbody>\n",
       "</table>\n",
       "</div>"
      ],
      "text/plain": [
       "              open    high       low   close   volume\n",
       "date                                                 \n",
       "2014-05-21  542.90  549.75  542.1100  549.70  1564854\n",
       "2014-05-22  552.20  557.96  551.0000  555.45  2149757\n",
       "2014-05-23  558.13  565.00  554.1700  563.80  2672674\n",
       "2014-05-27  567.78  574.87  564.1500  574.87  2191828\n",
       "2014-05-28  574.57  577.66  569.9520  570.45  1581576\n",
       "2014-05-29  573.39  573.48  568.4525  570.56  1411296\n",
       "2014-05-30  571.64  572.58  565.7900  571.65  1871737\n",
       "2014-06-02  569.75  570.41  556.7000  564.34  1663640\n",
       "2014-06-03  560.90  562.40  552.5275  554.51  2031647\n",
       "2014-06-04  551.52  558.58  548.5600  553.76  1729192"
      ]
     },
     "execution_count": 10,
     "metadata": {},
     "output_type": "execute_result"
    }
   ],
   "source": [
    "df_goog.head(10)"
   ]
  },
  {
   "cell_type": "markdown",
   "metadata": {},
   "source": [
    "Let's get more information about the dataframe through `info` function. `info` gives details like\n",
    "- The name of each column.\n",
    "- The datatype (numpy.dtype) of each column.\n",
    "- The number of real values present.\n",
    "- The total number of memory used."
   ]
  },
  {
   "cell_type": "code",
   "execution_count": 11,
   "metadata": {},
   "outputs": [
    {
     "name": "stdout",
     "output_type": "stream",
     "text": [
      "<class 'pandas.core.frame.DataFrame'>\n",
      "Index: 1257 entries, 2014-05-21 to 2019-05-17\n",
      "Data columns (total 5 columns):\n",
      "open      1257 non-null float64\n",
      "high      1257 non-null float64\n",
      "low       1257 non-null float64\n",
      "close     1257 non-null float64\n",
      "volume    1257 non-null int64\n",
      "dtypes: float64(4), int64(1)\n",
      "memory usage: 58.9+ KB\n"
     ]
    }
   ],
   "source": [
    "df_goog.info()"
   ]
  },
  {
   "cell_type": "markdown",
   "metadata": {},
   "source": [
    "#### Data Indexing\n",
    "Let's explore Panda's most powerful feature - indexing. It goes way beyond integer indexing."
   ]
  },
  {
   "cell_type": "code",
   "execution_count": 12,
   "metadata": {},
   "outputs": [
    {
     "data": {
      "text/plain": [
       "date\n",
       "2014-05-21     542.90\n",
       "2014-05-22     552.20\n",
       "2014-05-23     558.13\n",
       "2014-05-27     567.78\n",
       "2014-05-28     574.57\n",
       "2014-05-29     573.39\n",
       "2014-05-30     571.64\n",
       "2014-06-02     569.75\n",
       "2014-06-03     560.90\n",
       "2014-06-04     551.52\n",
       "2014-06-05     557.11\n",
       "2014-06-06     568.16\n",
       "2014-06-09     566.75\n",
       "2014-06-10     568.78\n",
       "2014-06-11     565.92\n",
       "2014-06-12     567.00\n",
       "2014-06-13     560.08\n",
       "2014-06-16     557.25\n",
       "2014-06-17     552.36\n",
       "2014-06-18     552.80\n",
       "2014-06-19     561.15\n",
       "2014-06-20     566.45\n",
       "2014-06-23     564.35\n",
       "2014-06-24     574.22\n",
       "2014-06-25     573.55\n",
       "2014-06-26     589.30\n",
       "2014-06-27     585.45\n",
       "2014-06-30     586.76\n",
       "2014-07-01     587.65\n",
       "2014-07-02     592.26\n",
       "               ...   \n",
       "2019-04-05    1219.30\n",
       "2019-04-08    1211.11\n",
       "2019-04-09    1201.89\n",
       "2019-04-10    1205.09\n",
       "2019-04-11    1208.90\n",
       "2019-04-12    1215.62\n",
       "2019-04-15    1224.09\n",
       "2019-04-16    1230.00\n",
       "2019-04-17    1237.00\n",
       "2019-04-18    1245.00\n",
       "2019-04-22    1236.67\n",
       "2019-04-23    1256.64\n",
       "2019-04-24    1270.59\n",
       "2019-04-25    1270.30\n",
       "2019-04-26    1273.38\n",
       "2019-04-29    1280.51\n",
       "2019-04-30    1190.63\n",
       "2019-05-01    1197.50\n",
       "2019-05-02    1172.60\n",
       "2019-05-03    1177.41\n",
       "2019-05-06    1172.00\n",
       "2019-05-07    1185.81\n",
       "2019-05-08    1177.29\n",
       "2019-05-09    1162.60\n",
       "2019-05-10    1168.84\n",
       "2019-05-13    1145.24\n",
       "2019-05-14    1142.32\n",
       "2019-05-15    1122.55\n",
       "2019-05-16    1171.84\n",
       "2019-05-17    1175.83\n",
       "Name: open, Length: 1257, dtype: float64"
      ]
     },
     "execution_count": 12,
     "metadata": {},
     "output_type": "execute_result"
    }
   ],
   "source": [
    "df_goog['open']"
   ]
  },
  {
   "cell_type": "markdown",
   "metadata": {},
   "source": [
    "Again we can restrict our output to first few, however lets first inspect the type of this."
   ]
  },
  {
   "cell_type": "code",
   "execution_count": 13,
   "metadata": {},
   "outputs": [
    {
     "data": {
      "text/plain": [
       "pandas.core.series.Series"
      ]
     },
     "execution_count": 13,
     "metadata": {},
     "output_type": "execute_result"
    }
   ],
   "source": [
    "type(df_goog['open'])"
   ]
  },
  {
   "cell_type": "markdown",
   "metadata": {},
   "source": [
    "As expected, it is a pandas series object."
   ]
  },
  {
   "cell_type": "code",
   "execution_count": 14,
   "metadata": {},
   "outputs": [
    {
     "data": {
      "text/plain": [
       "date\n",
       "2014-05-21    542.90\n",
       "2014-05-22    552.20\n",
       "2014-05-23    558.13\n",
       "2014-05-27    567.78\n",
       "2014-05-28    574.57\n",
       "Name: open, dtype: float64"
      ]
     },
     "execution_count": 14,
     "metadata": {},
     "output_type": "execute_result"
    }
   ],
   "source": [
    "df_goog['open'].head(5)"
   ]
  },
  {
   "cell_type": "markdown",
   "metadata": {},
   "source": [
    "Let's use integer indexing, iloc --> i for integer"
   ]
  },
  {
   "cell_type": "code",
   "execution_count": 15,
   "metadata": {},
   "outputs": [
    {
     "data": {
      "text/plain": [
       "date\n",
       "2014-05-21    542.90\n",
       "2014-05-22    552.20\n",
       "2014-05-23    558.13\n",
       "2014-05-27    567.78\n",
       "2014-05-28    574.57\n",
       "Name: open, dtype: float64"
      ]
     },
     "execution_count": 15,
     "metadata": {},
     "output_type": "execute_result"
    }
   ],
   "source": [
    "df_goog['open'].iloc[0:5]"
   ]
  },
  {
   "cell_type": "markdown",
   "metadata": {},
   "source": [
    "Our dataframe is indexed on 'date' column, therefore we can use loc to get rows"
   ]
  },
  {
   "cell_type": "code",
   "execution_count": 16,
   "metadata": {},
   "outputs": [
    {
     "data": {
      "text/plain": [
       "date\n",
       "2014-05-21    542.90\n",
       "2014-05-22    552.20\n",
       "2014-05-23    558.13\n",
       "2014-05-27    567.78\n",
       "2014-05-28    574.57\n",
       "2014-05-29    573.39\n",
       "2014-05-30    571.64\n",
       "2014-06-02    569.75\n",
       "2014-06-03    560.90\n",
       "Name: open, dtype: float64"
      ]
     },
     "execution_count": 16,
     "metadata": {},
     "output_type": "execute_result"
    }
   ],
   "source": [
    "df_goog.loc['2014-05-20':'2014-06-03', 'open']"
   ]
  },
  {
   "cell_type": "markdown",
   "metadata": {},
   "source": [
    "#### Data filtering\n",
    "Let's play with data more, lets filter some data. Let's get the dates where Google ended up at the end of the day, i.e. closing price of the day is higher than opening."
   ]
  },
  {
   "cell_type": "code",
   "execution_count": 17,
   "metadata": {},
   "outputs": [
    {
     "name": "stdout",
     "output_type": "stream",
     "text": [
      "In our data, google closed 642 up out of total 1257\n"
     ]
    }
   ],
   "source": [
    "df_goog_up = df_goog[df_goog['close'] > df_goog['open']]\n",
    "up_days = len(df_goog_up)\n",
    "total_days = len(df_goog)\n",
    "print(f\"In our data, google closed {up_days} up out of total {total_days}\")"
   ]
  },
  {
   "cell_type": "markdown",
   "metadata": {},
   "source": [
    "Our data from IEX seems to be clean, as we know from info on dataframe, however data we read from csv seems to have lot of *null* values for volume column. Lets filter that dataframe. "
   ]
  },
  {
   "cell_type": "code",
   "execution_count": 18,
   "metadata": {},
   "outputs": [
    {
     "name": "stdout",
     "output_type": "stream",
     "text": [
      "In data from CSV, there are 1257 total rows, out of which 194 have volume data\n"
     ]
    }
   ],
   "source": [
    "total_rows = len(goog)\n",
    "non_null_rows = goog[pd.isnull(goog['Volume']) == False]\n",
    "total_non_null_rows = len(non_null_rows)\n",
    "print(f\"In data from CSV, there are {total_rows} total rows, out of which {total_non_null_rows} have volume data\")"
   ]
  },
  {
   "cell_type": "markdown",
   "metadata": {},
   "source": [
    "### Statistics from Data"
   ]
  },
  {
   "cell_type": "markdown",
   "metadata": {},
   "source": [
    "`describe` on dataframe provides lot of statistical insights on dataframe."
   ]
  },
  {
   "cell_type": "code",
   "execution_count": 19,
   "metadata": {},
   "outputs": [
    {
     "data": {
      "text/html": [
       "<div>\n",
       "<style scoped>\n",
       "    .dataframe tbody tr th:only-of-type {\n",
       "        vertical-align: middle;\n",
       "    }\n",
       "\n",
       "    .dataframe tbody tr th {\n",
       "        vertical-align: top;\n",
       "    }\n",
       "\n",
       "    .dataframe thead th {\n",
       "        text-align: right;\n",
       "    }\n",
       "</style>\n",
       "<table border=\"1\" class=\"dataframe\">\n",
       "  <thead>\n",
       "    <tr style=\"text-align: right;\">\n",
       "      <th></th>\n",
       "      <th>open</th>\n",
       "      <th>high</th>\n",
       "      <th>low</th>\n",
       "      <th>close</th>\n",
       "      <th>volume</th>\n",
       "    </tr>\n",
       "  </thead>\n",
       "  <tbody>\n",
       "    <tr>\n",
       "      <th>count</th>\n",
       "      <td>1257.000000</td>\n",
       "      <td>1257.000000</td>\n",
       "      <td>1257.000000</td>\n",
       "      <td>1257.000000</td>\n",
       "      <td>1.257000e+03</td>\n",
       "    </tr>\n",
       "    <tr>\n",
       "      <th>mean</th>\n",
       "      <td>846.921561</td>\n",
       "      <td>854.114110</td>\n",
       "      <td>839.150937</td>\n",
       "      <td>846.912156</td>\n",
       "      <td>1.923341e+06</td>\n",
       "    </tr>\n",
       "    <tr>\n",
       "      <th>std</th>\n",
       "      <td>222.892423</td>\n",
       "      <td>225.248702</td>\n",
       "      <td>220.635110</td>\n",
       "      <td>223.108437</td>\n",
       "      <td>9.448947e+05</td>\n",
       "    </tr>\n",
       "    <tr>\n",
       "      <th>min</th>\n",
       "      <td>499.240000</td>\n",
       "      <td>500.280000</td>\n",
       "      <td>490.910000</td>\n",
       "      <td>497.060000</td>\n",
       "      <td>5.211410e+05</td>\n",
       "    </tr>\n",
       "    <tr>\n",
       "      <th>25%</th>\n",
       "      <td>657.470000</td>\n",
       "      <td>664.410000</td>\n",
       "      <td>651.100000</td>\n",
       "      <td>657.500000</td>\n",
       "      <td>1.365072e+06</td>\n",
       "    </tr>\n",
       "    <tr>\n",
       "      <th>50%</th>\n",
       "      <td>807.210000</td>\n",
       "      <td>811.435000</td>\n",
       "      <td>802.780300</td>\n",
       "      <td>807.900000</td>\n",
       "      <td>1.685193e+06</td>\n",
       "    </tr>\n",
       "    <tr>\n",
       "      <th>75%</th>\n",
       "      <td>1052.080000</td>\n",
       "      <td>1064.540000</td>\n",
       "      <td>1041.290000</td>\n",
       "      <td>1052.280000</td>\n",
       "      <td>2.168813e+06</td>\n",
       "    </tr>\n",
       "    <tr>\n",
       "      <th>max</th>\n",
       "      <td>1289.120000</td>\n",
       "      <td>1296.970000</td>\n",
       "      <td>1271.710000</td>\n",
       "      <td>1296.200000</td>\n",
       "      <td>1.285814e+07</td>\n",
       "    </tr>\n",
       "  </tbody>\n",
       "</table>\n",
       "</div>"
      ],
      "text/plain": [
       "              open         high          low        close        volume\n",
       "count  1257.000000  1257.000000  1257.000000  1257.000000  1.257000e+03\n",
       "mean    846.921561   854.114110   839.150937   846.912156  1.923341e+06\n",
       "std     222.892423   225.248702   220.635110   223.108437  9.448947e+05\n",
       "min     499.240000   500.280000   490.910000   497.060000  5.211410e+05\n",
       "25%     657.470000   664.410000   651.100000   657.500000  1.365072e+06\n",
       "50%     807.210000   811.435000   802.780300   807.900000  1.685193e+06\n",
       "75%    1052.080000  1064.540000  1041.290000  1052.280000  2.168813e+06\n",
       "max    1289.120000  1296.970000  1271.710000  1296.200000  1.285814e+07"
      ]
     },
     "execution_count": 19,
     "metadata": {},
     "output_type": "execute_result"
    }
   ],
   "source": [
    "df_goog.describe()"
   ]
  },
  {
   "cell_type": "markdown",
   "metadata": {},
   "source": [
    "In financial field, **volatility** of a stock is an important metric to evaluate a stock. Let's calculate volatility of Google's stock. In statistical terms, lets calculate the rolling standard deviation of the log, over the business days of the year.\n",
    "- We will use `pandas` method `.pct_change()` to compute the *return* per day based on percentage change.\n",
    "- After that, we use `numpy` to compute the log of the return.\n",
    "- In the end, we used `pandas` method `.rolling_std()` to compute the volatility."
   ]
  },
  {
   "cell_type": "code",
   "execution_count": 20,
   "metadata": {},
   "outputs": [
    {
     "data": {
      "text/plain": [
       "date\n",
       "2014-05-21         NaN\n",
       "2014-05-22    0.010460\n",
       "2014-05-23    0.015033\n",
       "2014-05-27    0.019635\n",
       "2014-05-28   -0.007689\n",
       "Name: return, dtype: float64"
      ]
     },
     "execution_count": 20,
     "metadata": {},
     "output_type": "execute_result"
    }
   ],
   "source": [
    "# We will create a new pandas column to hold the daily percent change.\n",
    "df_goog['return'] = df_goog['close'].pct_change()\n",
    "df_goog['return'].head()"
   ]
  },
  {
   "cell_type": "code",
   "execution_count": 21,
   "metadata": {},
   "outputs": [
    {
     "data": {
      "text/plain": [
       "date\n",
       "2014-05-21         NaN\n",
       "2014-05-22    0.010406\n",
       "2014-05-23    0.014921\n",
       "2014-05-27    0.019444\n",
       "2014-05-28   -0.007718\n",
       "Name: logReturn, dtype: float64"
      ]
     },
     "execution_count": 21,
     "metadata": {},
     "output_type": "execute_result"
    }
   ],
   "source": [
    "# Now, compute the log() of the return using numpy\n",
    "import numpy as np\n",
    "df_goog['logReturn'] = np.log(1+df_goog['return'])\n",
    "df_goog['logReturn'].head()"
   ]
  },
  {
   "cell_type": "code",
   "execution_count": 22,
   "metadata": {},
   "outputs": [
    {
     "data": {
      "text/plain": [
       "date\n",
       "2015-05-07         NaN\n",
       "2015-05-08         NaN\n",
       "2015-05-11         NaN\n",
       "2015-05-12         NaN\n",
       "2015-05-13         NaN\n",
       "2015-05-14         NaN\n",
       "2015-05-15         NaN\n",
       "2015-05-18         NaN\n",
       "2015-05-19         NaN\n",
       "2015-05-20         NaN\n",
       "2015-05-21    0.012556\n",
       "2015-05-22    0.012541\n",
       "2015-05-26    0.012533\n",
       "2015-05-27    0.012499\n",
       "2015-05-28    0.012490\n",
       "2015-05-29    0.012530\n",
       "2015-06-01    0.012538\n",
       "2015-06-02    0.012524\n",
       "2015-06-03    0.012476\n",
       "2015-06-04    0.012483\n",
       "Name: volatility, dtype: float64"
      ]
     },
     "execution_count": 22,
     "metadata": {},
     "output_type": "execute_result"
    }
   ],
   "source": [
    "# In the end we compute the rolling standard deviation, that is the stock's volatility.\n",
    "window_size = 252 #total business days\n",
    "df_goog['volatility'] = df_goog['logReturn'].rolling(window_size).std()\n",
    "df_goog['volatility'].iloc[window_size-10:window_size+10]"
   ]
  },
  {
   "cell_type": "markdown",
   "metadata": {},
   "source": [
    "### Data Visualization\n",
    "Let's visualize some data of the google stock to better understand it."
   ]
  },
  {
   "cell_type": "markdown",
   "metadata": {},
   "source": [
    "Sidenote: Explore `pd.options` for configuring pandas\n",
    "\n",
    "#### Creating a Pandas series"
   ]
  },
  {
   "cell_type": "code",
   "execution_count": 23,
   "metadata": {},
   "outputs": [
    {
     "name": "stdout",
     "output_type": "stream",
     "text": [
      "<class 'pandas.core.frame.DataFrame'>\n",
      "Index: 1257 entries, 2014-05-21 to 2019-05-17\n",
      "Data columns (total 8 columns):\n",
      "open          1257 non-null float64\n",
      "high          1257 non-null float64\n",
      "low           1257 non-null float64\n",
      "close         1257 non-null float64\n",
      "volume        1257 non-null int64\n",
      "return        1256 non-null float64\n",
      "logReturn     1256 non-null float64\n",
      "volatility    1005 non-null float64\n",
      "dtypes: float64(7), int64(1)\n",
      "memory usage: 128.4+ KB\n"
     ]
    }
   ],
   "source": [
    "df_goog.info()"
   ]
  },
  {
   "cell_type": "code",
   "execution_count": 24,
   "metadata": {},
   "outputs": [
    {
     "data": {
      "text/plain": [
       "array([<matplotlib.axes._subplots.AxesSubplot object at 0x00000232CFB73908>,\n",
       "       <matplotlib.axes._subplots.AxesSubplot object at 0x00000232D03065C0>],\n",
       "      dtype=object)"
      ]
     },
     "execution_count": 24,
     "metadata": {},
     "output_type": "execute_result"
    },
    {
     "data": {
      "image/png": "[encoded data removed]",
      "text/plain": [
       "<Figure size 1080x432 with 2 Axes>"
      ]
     },
     "metadata": {
      "needs_background": "light"
     },
     "output_type": "display_data"
    }
   ],
   "source": [
    "df_goog[['close', 'volatility']].plot(subplots=True, figsize=(15, 6))"
   ]
  },
  {
   "cell_type": "code",
   "execution_count": null,
   "metadata": {},
   "outputs": [],
   "source": []
  }
 ],
 "metadata": {
  "kernelspec": {
   "display_name": "TensorFlow-GPU-1.13.1",
   "language": "python",
   "name": "tf-gpu"
  },
  "language_info": {
   "codemirror_mode": {
    "name": "ipython",
    "version": 3
   },
   "file_extension": ".py",
   "mimetype": "text/x-python",
   "name": "python",
   "nbconvert_exporter": "python",
   "pygments_lexer": "ipython3",
   "version": "3.7.3"
  }
 },
 "nbformat": 4,
 "nbformat_minor": 2
}
